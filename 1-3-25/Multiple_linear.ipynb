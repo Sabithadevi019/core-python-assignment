{
 "cells": [
  {
   "cell_type": "markdown",
   "id": "d1b3250f-7a9a-4a95-8d3c-ea0e1bc65933",
   "metadata": {},
   "source": [
    "## Multiple Linear Regression\n"
   ]
  },
  {
   "cell_type": "markdown",
   "id": "2f1d5b02-83cf-49c5-9e31-c76f6e735942",
   "metadata": {},
   "source": [
    "**Step 1:importing the libraries**\n"
   ]
  },
  {
   "cell_type": "code",
   "execution_count": 24,
   "id": "7cf29386-2666-476e-9d95-0e94a59163e4",
   "metadata": {},
   "outputs": [],
   "source": [
    "import numpy as np\n",
    "import pandas as pd\n",
    "from sklearn.model_selection import train_test_split\n",
    "from sklearn.linear_model import LinearRegression\n",
    "from sklearn.metrics import mean_squared_error, r2_score"
   ]
  },
  {
   "cell_type": "markdown",
   "id": "f54cc8b6-fcfb-4a29-8735-c802a93c8170",
   "metadata": {},
   "source": [
    "**Step 2: Define the dataset**"
   ]
  },
  {
   "cell_type": "code",
   "execution_count": 27,
   "id": "3a99b067-21b2-4419-853e-b65932e0e866",
   "metadata": {},
   "outputs": [],
   "source": [
    "data = {\n",
    "    'Size': [1500, 1600, 1700, 1800, 1900, 2000, 2100, 2200],\n",
    "    'Bedrooms': [3, 3, 3, 4, 4, 4, 5, 5],\n",
    "    'Age': [10, 15, 10, 20, 30, 15, 20, 25],\n",
    "    'Price': [300000, 320000, 340000, 360000, 400000, 370000, 420000, 430000]\n",
    "}\n",
    "df=pd.DataFrame(data)"
   ]
  },
  {
   "cell_type": "code",
   "execution_count": 85,
   "id": "ff691847-71ea-4dd0-bb1a-4da152683ba5",
   "metadata": {},
   "outputs": [],
   "source": [
    "# Define independent variables (features) and dependent variable (target)\n",
    "X = df[['Size', 'Bedrooms', 'Age']]  #  3 Independent variables\n",
    "y = df['Price']  # Dependent variable\n",
    " \n",
    "#X = df[['Size', 'Bedrooms']]  #  2 Independent variables\n",
    "#y = df['Price']  # Dependent variable\n",
    " \n",
    "#X = df[['Size']]  #  1 Independent variables\n",
    "#y = df['Price']  # Dependent variable\n",
    " "
   ]
  },
  {
   "cell_type": "code",
   "execution_count": 87,
   "id": "453e8c15-562a-4c60-8544-641045a549b5",
   "metadata": {},
   "outputs": [],
   "source": [
    "# Split the data into training and testing sets\n",
    "X_train, X_test, y_train, y_test = train_test_split(X, y, test_size=0.2, random_state=42)"
   ]
  },
  {
   "cell_type": "code",
   "execution_count": 89,
   "id": "6db60384-9a4e-4900-a91b-9ce41d7b0a62",
   "metadata": {},
   "outputs": [],
   "source": [
    "\n",
    "\n",
    " \n",
    "# Create a linear regression model\n",
    "model = LinearRegression()\n",
    " \n",
    "# Train the model\n",
    "model.fit(X_train, y_train)\n",
    " \n",
    "# Make predictions on the test set\n",
    "y_pred = model.predict(X_test)\n",
    " \n"
   ]
  },
  {
   "cell_type": "code",
   "execution_count": 91,
   "id": "3ce65ea7-0e20-4589-bbe9-690836d43d98",
   "metadata": {},
   "outputs": [
    {
     "name": "stdout",
     "output_type": "stream",
     "text": [
      "Intercept: 33576.01713061816\n",
      "Coefficients: [  182.01284797 -6252.67665953  1391.86295503]\n"
     ]
    }
   ],
   "source": [
    "# Coefficients and intercept\n",
    "print(\"Intercept:\", model.intercept_)\n",
    "print(\"Coefficients:\", model.coef_)\n",
    " \n"
   ]
  },
  {
   "cell_type": "code",
   "execution_count": 93,
   "id": "2558f31a-696f-4881-8315-b0f817ba0ffc",
   "metadata": {},
   "outputs": [
    {
     "name": "stdout",
     "output_type": "stream",
     "text": [
      "Mean Squared Error: 299314729.30776143\n",
      "R-squared: 0.5210964331075817\n"
     ]
    }
   ],
   "source": [
    "# Evaluate the model\n",
    "mse = mean_squared_error(y_test, y_pred)\n",
    "r2 = r2_score(y_test, y_pred)\n",
    " \n",
    "print(\"Mean Squared Error:\",mse)\n",
    "print(\"R-squared:\", r2)\n",
    " \n",
    " \n"
   ]
  },
  {
   "cell_type": "code",
   "execution_count": 95,
   "id": "7443fd0f-4ab6-4940-9b81-760764482788",
   "metadata": {},
   "outputs": [
    {
     "name": "stdout",
     "output_type": "stream",
     "text": [
      "Predicted Price for new house: 301755.888650963\n"
     ]
    },
    {
     "name": "stderr",
     "output_type": "stream",
     "text": [
      "C:\\Users\\Proxy1\\anaconda3\\Lib\\site-packages\\sklearn\\base.py:493: UserWarning: X does not have valid feature names, but LinearRegression was fitted with feature names\n",
      "  warnings.warn(\n"
     ]
    }
   ],
   "source": [
    "new_house = np.array([[1500,3,10]])\n",
    "predicted_price = model.predict(new_house)\n",
    "print(f\"Predicted Price for new house: {predicted_price[0]}\")\n"
   ]
  },
  {
   "cell_type": "code",
   "execution_count": null,
   "id": "34b935ef-58ab-43a6-a99e-be9a38c9bd14",
   "metadata": {},
   "outputs": [],
   "source": []
  },
  {
   "cell_type": "code",
   "execution_count": null,
   "id": "55e800f2-9574-408b-9f5b-786112729703",
   "metadata": {},
   "outputs": [],
   "source": []
  }
 ],
 "metadata": {
  "kernelspec": {
   "display_name": "Python 3 (ipykernel)",
   "language": "python",
   "name": "python3"
  },
  "language_info": {
   "codemirror_mode": {
    "name": "ipython",
    "version": 3
   },
   "file_extension": ".py",
   "mimetype": "text/x-python",
   "name": "python",
   "nbconvert_exporter": "python",
   "pygments_lexer": "ipython3",
   "version": "3.12.7"
  }
 },
 "nbformat": 4,
 "nbformat_minor": 5
}
