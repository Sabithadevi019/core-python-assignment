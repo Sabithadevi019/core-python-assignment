{
 "cells": [
  {
   "cell_type": "markdown",
   "id": "3b6ceb24-b9ef-4725-b573-e3f78e0aa8d4",
   "metadata": {},
   "source": [
    "### Importing libraries"
   ]
  },
  {
   "cell_type": "code",
   "execution_count": 4,
   "id": "e5870165-6e59-4ce0-8e09-276038608f80",
   "metadata": {},
   "outputs": [],
   "source": [
    "import numpy as np\n",
    "import pandas as pd\n",
    "import matplotlib.pyplot as plt\n",
    "import seaborn as sns\n",
    "from sklearn.model_selection import train_test_split,GridSearchCV,RandomizedSearchCV\n",
    "from sklearn.ensemble import RandomForestClassifier\n",
    "from sklearn.metrics import accuracy_score,classification_report,confusion_matrix\n",
    "from sklearn.datasets import load_iris"
   ]
  },
  {
   "cell_type": "markdown",
   "id": "9062d14b-8ded-47c5-bd6d-261dd3dbbefa",
   "metadata": {},
   "source": [
    "### Load and Explore Dataset"
   ]
  },
  {
   "cell_type": "code",
   "execution_count": 7,
   "id": "94e1874d-27d5-42b4-8557-df78daf756d4",
   "metadata": {},
   "outputs": [],
   "source": [
    "df=load_iris()\n",
    "X=df.data\n",
    "y=df.target"
   ]
  },
  {
   "cell_type": "markdown",
   "id": "f829e930-c65a-4162-a48b-8ea85b04a880",
   "metadata": {},
   "source": [
    "### Define HyperParameter Grid"
   ]
  },
  {
   "cell_type": "code",
   "execution_count": 12,
   "id": "1a891b0c-190b-4fe6-8406-460bcb84bbef",
   "metadata": {},
   "outputs": [],
   "source": [
    "param_grid={\n",
    "    'n_estimators':[10,50,100,200],\n",
    "    'max_depth':[5,10,20,None],\n",
    "    'min_samples_split':[2,5,10],\n",
    "    'min_samples_leaf':[1,2,4]\n",
    "}\n",
    "#split into training(80),testing(20)\n",
    "X_train,X_test,y_train,y_test=train_test_split(X,y,test_size=0.2,random_state=42)"
   ]
  },
  {
   "cell_type": "markdown",
   "id": "f0a4fad8-53ef-4739-94b8-996f8de06e70",
   "metadata": {},
   "source": [
    "### Apply GridSearchCV"
   ]
  },
  {
   "cell_type": "code",
   "execution_count": 15,
   "id": "0eb546f4-0817-4ed2-a823-8fbb7284d48f",
   "metadata": {},
   "outputs": [
    {
     "name": "stdout",
     "output_type": "stream",
     "text": [
      "Fitting 5 folds for each of 144 candidates, totalling 720 fits\n",
      "Best parameters from GridSearch: {'max_depth': 10, 'min_samples_leaf': 2, 'min_samples_split': 2, 'n_estimators': 100}\n"
     ]
    }
   ],
   "source": [
    "grid_search=GridSearchCV(RandomForestClassifier(),param_grid,cv=5,n_jobs=1,verbose=1)\n",
    "grid_search.fit(X_train,y_train)\n",
    "print('Best parameters from GridSearch:',grid_search.best_params_)"
   ]
  },
  {
   "cell_type": "markdown",
   "id": "583344f5-67d2-448c-b169-29b02853fe5c",
   "metadata": {},
   "source": [
    "### Apply Randomized Search CV"
   ]
  },
  {
   "cell_type": "code",
   "execution_count": 18,
   "id": "fdc71706-eb63-409f-a849-f345f601df3b",
   "metadata": {},
   "outputs": [
    {
     "name": "stdout",
     "output_type": "stream",
     "text": [
      "Fitting 5 folds for each of 10 candidates, totalling 50 fits\n",
      "Best paramters from Random Search: {'n_estimators': 100, 'min_samples_split': 5, 'min_samples_leaf': 4, 'max_depth': 10}\n"
     ]
    }
   ],
   "source": [
    "random_search=RandomizedSearchCV(RandomForestClassifier(),param_grid,n_iter=10,cv=5,n_jobs=1,verbose=1,random_state=42)\n",
    "random_search.fit(X_train,y_train)\n",
    "print('Best paramters from Random Search:',random_search.best_params_)"
   ]
  },
  {
   "cell_type": "markdown",
   "id": "76e50082-a036-4570-99ad-522ad10c397e",
   "metadata": {},
   "source": [
    "### Evaluate Model Performance"
   ]
  },
  {
   "cell_type": "code",
   "execution_count": 23,
   "id": "a4461019-d7e2-4192-8bd1-6ba24ea1b777",
   "metadata": {},
   "outputs": [
    {
     "name": "stdout",
     "output_type": "stream",
     "text": [
      "Grid Search Accuracy:1.00\n",
      "Random Search Accuracy:1.00\n"
     ]
    }
   ],
   "source": [
    "#Train model with best parameters\n",
    "best_grid_model=grid_search.best_estimator_\n",
    "best_random_model=random_search.best_estimator_\n",
    "#Predictions\n",
    "y_pred_grid=best_grid_model.predict(X_test)\n",
    "y_pred_random=best_random_model.predict(X_test)\n",
    "#accuracy\n",
    "acc_grid=accuracy_score(y_test,y_pred_grid)\n",
    "acc_random=accuracy_score(y_test,y_pred_random)\n",
    "\n",
    "print(f'Grid Search Accuracy:{acc_grid:.2f}')\n",
    "print(f'Random Search Accuracy:{acc_random:.2f}')"
   ]
  },
  {
   "cell_type": "markdown",
   "id": "1267827f-2e20-443c-8fec-522ea89c9313",
   "metadata": {},
   "source": [
    "***SVM-we can add a third dimension we can seperate the dissimilar data using svm in a way-z2=x2+y2***"
   ]
  },
  {
   "cell_type": "code",
   "execution_count": null,
   "id": "b955bea9-f5cf-418b-95be-839bca92c127",
   "metadata": {},
   "outputs": [],
   "source": []
  }
 ],
 "metadata": {
  "kernelspec": {
   "display_name": "Python 3 (ipykernel)",
   "language": "python",
   "name": "python3"
  },
  "language_info": {
   "codemirror_mode": {
    "name": "ipython",
    "version": 3
   },
   "file_extension": ".py",
   "mimetype": "text/x-python",
   "name": "python",
   "nbconvert_exporter": "python",
   "pygments_lexer": "ipython3",
   "version": "3.12.4"
  }
 },
 "nbformat": 4,
 "nbformat_minor": 5
}
