{
 "cells": [
  {
   "cell_type": "code",
   "execution_count": 1,
   "id": "414f22ab-fc45-4e51-8da3-9949c3bbbe04",
   "metadata": {},
   "outputs": [
    {
     "name": "stdout",
     "output_type": "stream",
     "text": [
      "Classification Accuracy:0.98\n"
     ]
    }
   ],
   "source": [
    "from sklearn.datasets import load_iris\n",
    "from sklearn.model_selection import train_test_split\n",
    "from sklearn.neighbors import KNeighborsClassifier\n",
    "from sklearn.metrics import accuracy_score\n",
    "iris=load_iris()\n",
    "X=iris.data\n",
    "y=iris.target\n",
    "X_train,X_test,y_train,y_test=train_test_split(X,y,test_size=0.4,random_state=42)\n",
    "knn_classifier=KNeighborsClassifier(n_neighbors=3)\n",
    "knn_classifier.fit(X_train,y_train)\n",
    "y_pred=knn_classifier.predict(X_test)\n",
    "accuracy=accuracy_score(y_test,y_pred)\n",
    "print(f'Classification Accuracy:{accuracy:.2f}')"
   ]
  },
  {
   "cell_type": "code",
   "execution_count": 3,
   "id": "71ef55d0-2e78-4483-9777-45094a19d370",
   "metadata": {},
   "outputs": [
    {
     "name": "stdout",
     "output_type": "stream",
     "text": [
      "Mean Squared Error:1.24\n"
     ]
    }
   ],
   "source": [
    "from sklearn.datasets import fetch_california_housing\n",
    "from sklearn.model_selection import train_test_split\n",
    "from sklearn.neighbors import KNeighborsRegressor\n",
    "from sklearn.metrics import mean_squared_error\n",
    "california=fetch_california_housing()\n",
    "X=california.data\n",
    "y=california.target\n",
    "X_train,X_test,y_train,y_test=train_test_split(X,y,test_size=0.4,random_state=42)\n",
    "knn_regressor=KNeighborsRegressor(n_neighbors=3)\n",
    "knn_regressor.fit(X_train,y_train)\n",
    "y_pred=knn_regressor.predict(X_test)\n",
    "mse=mean_squared_error(y_test,y_pred)\n",
    "print(f'Mean Squared Error:{mse:.2f}')"
   ]
  },
  {
   "cell_type": "code",
   "execution_count": null,
   "id": "4306b900-fff3-435d-b97d-f379d520e426",
   "metadata": {},
   "outputs": [],
   "source": []
  }
 ],
 "metadata": {
  "kernelspec": {
   "display_name": "Python 3 (ipykernel)",
   "language": "python",
   "name": "python3"
  },
  "language_info": {
   "codemirror_mode": {
    "name": "ipython",
    "version": 3
   },
   "file_extension": ".py",
   "mimetype": "text/x-python",
   "name": "python",
   "nbconvert_exporter": "python",
   "pygments_lexer": "ipython3",
   "version": "3.12.4"
  }
 },
 "nbformat": 4,
 "nbformat_minor": 5
}
