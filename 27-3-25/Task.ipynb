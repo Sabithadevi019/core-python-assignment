{
 "cells": [
  {
   "cell_type": "markdown",
   "id": "2ce1cf0d-b207-4950-b401-5c596acf7d2d",
   "metadata": {},
   "source": [
    "### Load and explore the dataset"
   ]
  },
  {
   "cell_type": "code",
   "execution_count": 2,
   "id": "1cf701e3-ba67-4eb4-9602-301c46e9a2a9",
   "metadata": {},
   "outputs": [
    {
     "name": "stdout",
     "output_type": "stream",
     "text": [
      "Dataset Loaded Successfully.\n",
      "\n",
      "<class 'pandas.core.frame.DataFrame'>\n",
      "RangeIndex: 7043 entries, 0 to 7042\n",
      "Data columns (total 21 columns):\n",
      " #   Column            Non-Null Count  Dtype  \n",
      "---  ------            --------------  -----  \n",
      " 0   customerID        7043 non-null   object \n",
      " 1   gender            7043 non-null   object \n",
      " 2   SeniorCitizen     7043 non-null   int64  \n",
      " 3   Partner           7043 non-null   object \n",
      " 4   Dependents        7043 non-null   object \n",
      " 5   tenure            7043 non-null   int64  \n",
      " 6   PhoneService      7043 non-null   object \n",
      " 7   MultipleLines     7043 non-null   object \n",
      " 8   InternetService   7043 non-null   object \n",
      " 9   OnlineSecurity    7043 non-null   object \n",
      " 10  OnlineBackup      7043 non-null   object \n",
      " 11  DeviceProtection  7043 non-null   object \n",
      " 12  TechSupport       7043 non-null   object \n",
      " 13  StreamingTV       7043 non-null   object \n",
      " 14  StreamingMovies   7043 non-null   object \n",
      " 15  Contract          7043 non-null   object \n",
      " 16  PaperlessBilling  7043 non-null   object \n",
      " 17  PaymentMethod     7043 non-null   object \n",
      " 18  MonthlyCharges    7043 non-null   float64\n",
      " 19  TotalCharges      7043 non-null   object \n",
      " 20  Churn             7043 non-null   object \n",
      "dtypes: float64(1), int64(2), object(18)\n",
      "memory usage: 1.1+ MB\n",
      "None\n",
      "   customerID  gender  SeniorCitizen Partner Dependents  tenure PhoneService  \\\n",
      "0  7590-VHVEG  Female              0     Yes         No       1           No   \n",
      "1  5575-GNVDE    Male              0      No         No      34          Yes   \n",
      "2  3668-QPYBK    Male              0      No         No       2          Yes   \n",
      "3  7795-CFOCW    Male              0      No         No      45           No   \n",
      "4  9237-HQITU  Female              0      No         No       2          Yes   \n",
      "\n",
      "      MultipleLines InternetService OnlineSecurity  ... DeviceProtection  \\\n",
      "0  No phone service             DSL             No  ...               No   \n",
      "1                No             DSL            Yes  ...              Yes   \n",
      "2                No             DSL            Yes  ...               No   \n",
      "3  No phone service             DSL            Yes  ...              Yes   \n",
      "4                No     Fiber optic             No  ...               No   \n",
      "\n",
      "  TechSupport StreamingTV StreamingMovies        Contract PaperlessBilling  \\\n",
      "0          No          No              No  Month-to-month              Yes   \n",
      "1          No          No              No        One year               No   \n",
      "2          No          No              No  Month-to-month              Yes   \n",
      "3         Yes          No              No        One year               No   \n",
      "4          No          No              No  Month-to-month              Yes   \n",
      "\n",
      "               PaymentMethod MonthlyCharges  TotalCharges Churn  \n",
      "0           Electronic check          29.85         29.85    No  \n",
      "1               Mailed check          56.95        1889.5    No  \n",
      "2               Mailed check          53.85        108.15   Yes  \n",
      "3  Bank transfer (automatic)          42.30       1840.75    No  \n",
      "4           Electronic check          70.70        151.65   Yes  \n",
      "\n",
      "[5 rows x 21 columns]\n"
     ]
    }
   ],
   "source": [
    "import pandas as pd\n",
    "import numpy as np\n",
    "import matplotlib.pyplot as plt\n",
    "import seaborn as sns\n",
    "from sklearn.model_selection import train_test_split\n",
    "from sklearn.preprocessing import LabelEncoder, StandardScaler\n",
    "from sklearn.ensemble import BaggingClassifier, AdaBoostClassifier, GradientBoostingClassifier\n",
    "from xgboost import XGBClassifier\n",
    "from sklearn.metrics import accuracy_score, confusion_matrix, classification_report, roc_auc_score\n",
    "\n",
    "# Step 1: Load and Explore the Dataset\n",
    "df = pd.read_csv(\"WA_Fn-UseC_-Telco-Customer-Churn.csv\")\n",
    "print(\"Dataset Loaded Successfully.\\n\")\n",
    "print(df.info())  # Check data types and missing values\n",
    "print(df.head())  # Display the first few rows\n"
   ]
  },
  {
   "cell_type": "markdown",
   "id": "35ff1a86-fef1-4c15-988f-a292d3f2853c",
   "metadata": {},
   "source": [
    "### Step 2: Preprocess the Data"
   ]
  },
  {
   "cell_type": "code",
   "execution_count": 5,
   "id": "c854930b-69e8-488c-8f98-cd33c608c0a0",
   "metadata": {},
   "outputs": [],
   "source": [
    "# Step 2: Preprocess the Data\n",
    "# Handling missing values\n",
    "df = df.dropna()\n",
    "\n",
    "# Encode categorical variables\n",
    "le = LabelEncoder()\n",
    "df[\"Churn\"] = le.fit_transform(df[\"Churn\"])  # Encode the target variable\n",
    "\n",
    "# Encode categorical features\n",
    "for col in df.select_dtypes(include=[\"object\"]).columns:\n",
    "    df[col] = le.fit_transform(df[col])\n",
    "\n",
    "# Define features and target variable\n",
    "X = df.drop(columns=[\"Churn\", \"customerID\"])  # Drop customerID as it's not useful\n",
    "y = df[\"Churn\"]\n",
    "\n",
    "# Standardize numerical features\n",
    "scaler = StandardScaler()\n",
    "X_scaled = scaler.fit_transform(X)"
   ]
  },
  {
   "cell_type": "markdown",
   "id": "bb765661-ba90-4eee-a617-2ed68af73fdf",
   "metadata": {},
   "source": [
    "### Step 3: Split Data into Training and Test Sets\n"
   ]
  },
  {
   "cell_type": "code",
   "execution_count": 8,
   "id": "d3610bd8-ca7d-48e7-8ef6-66754c3be4c0",
   "metadata": {},
   "outputs": [],
   "source": [
    "X_train, X_test, y_train, y_test = train_test_split(X_scaled, y, test_size=0.2, random_state=42)"
   ]
  },
  {
   "cell_type": "markdown",
   "id": "e96355ec-fe07-474e-8e85-c4167c437967",
   "metadata": {},
   "source": [
    "\n",
    "### Step 4: Apply Models\n"
   ]
  },
  {
   "cell_type": "code",
   "execution_count": 11,
   "id": "204a99a3-b605-4cf4-a8ef-ca9bac51588e",
   "metadata": {},
   "outputs": [],
   "source": [
    "models = {\n",
    "    \"BaggingClassifier\": BaggingClassifier(),\n",
    "    \"AdaBoostClassifier\": AdaBoostClassifier(),\n",
    "    \"GradientBoostingClassifier\": GradientBoostingClassifier(),\n",
    "    \"XGBClassifier\": XGBClassifier(use_label_encoder=False, eval_metric=\"logloss\")\n",
    "}"
   ]
  },
  {
   "cell_type": "markdown",
   "id": "f522f5cf-088d-42d2-8c58-c25caceb7f25",
   "metadata": {},
   "source": [
    "### Step 5:Evaluate Models"
   ]
  },
  {
   "cell_type": "code",
   "execution_count": 14,
   "id": "e83a44b2-3561-4200-a551-b7dcc25e489c",
   "metadata": {},
   "outputs": [
    {
     "name": "stdout",
     "output_type": "stream",
     "text": [
      "\n",
      "Model: BaggingClassifier\n",
      "Accuracy: 0.7835\n",
      "Confusion Matrix:\n",
      " [[935 101]\n",
      " [204 169]]\n",
      "Classification Report:\n",
      "               precision    recall  f1-score   support\n",
      "\n",
      "           0       0.82      0.90      0.86      1036\n",
      "           1       0.63      0.45      0.53       373\n",
      "\n",
      "    accuracy                           0.78      1409\n",
      "   macro avg       0.72      0.68      0.69      1409\n",
      "weighted avg       0.77      0.78      0.77      1409\n",
      "\n",
      "ROC-AUC Score: 0.7950\n",
      "\n",
      "Model: AdaBoostClassifier\n",
      "Accuracy: 0.8055\n",
      "Confusion Matrix:\n",
      " [[928 108]\n",
      " [166 207]]\n",
      "Classification Report:\n",
      "               precision    recall  f1-score   support\n",
      "\n",
      "           0       0.85      0.90      0.87      1036\n",
      "           1       0.66      0.55      0.60       373\n",
      "\n",
      "    accuracy                           0.81      1409\n",
      "   macro avg       0.75      0.73      0.74      1409\n",
      "weighted avg       0.80      0.81      0.80      1409\n",
      "\n",
      "ROC-AUC Score: 0.8571\n"
     ]
    },
    {
     "name": "stderr",
     "output_type": "stream",
     "text": [
      "C:\\ProgramData\\anaconda3\\Lib\\site-packages\\sklearn\\ensemble\\_weight_boosting.py:519: FutureWarning: The SAMME.R algorithm (the default) is deprecated and will be removed in 1.6. Use the SAMME algorithm to circumvent this warning.\n",
      "  warnings.warn(\n"
     ]
    },
    {
     "name": "stdout",
     "output_type": "stream",
     "text": [
      "\n",
      "Model: GradientBoostingClassifier\n",
      "Accuracy: 0.8112\n",
      "Confusion Matrix:\n",
      " [[945  91]\n",
      " [175 198]]\n",
      "Classification Report:\n",
      "               precision    recall  f1-score   support\n",
      "\n",
      "           0       0.84      0.91      0.88      1036\n",
      "           1       0.69      0.53      0.60       373\n",
      "\n",
      "    accuracy                           0.81      1409\n",
      "   macro avg       0.76      0.72      0.74      1409\n",
      "weighted avg       0.80      0.81      0.80      1409\n",
      "\n",
      "ROC-AUC Score: 0.8585\n",
      "\n",
      "Model: XGBClassifier\n",
      "Accuracy: 0.7857\n",
      "Confusion Matrix:\n",
      " [[909 127]\n",
      " [175 198]]\n",
      "Classification Report:\n",
      "               precision    recall  f1-score   support\n",
      "\n",
      "           0       0.84      0.88      0.86      1036\n",
      "           1       0.61      0.53      0.57       373\n",
      "\n",
      "    accuracy                           0.79      1409\n",
      "   macro avg       0.72      0.70      0.71      1409\n",
      "weighted avg       0.78      0.79      0.78      1409\n",
      "\n",
      "ROC-AUC Score: 0.8332\n"
     ]
    },
    {
     "name": "stderr",
     "output_type": "stream",
     "text": [
      "C:\\Users\\CVR\\AppData\\Roaming\\Python\\Python312\\site-packages\\xgboost\\training.py:183: UserWarning: [14:29:55] WARNING: C:\\actions-runner\\_work\\xgboost\\xgboost\\src\\learner.cc:738: \n",
      "Parameters: { \"use_label_encoder\" } are not used.\n",
      "\n",
      "  bst.update(dtrain, iteration=i, fobj=obj)\n"
     ]
    }
   ],
   "source": [
    "for name, model in models.items():\n",
    "    model.fit(X_train, y_train)\n",
    "    y_pred = model.predict(X_test)\n",
    "    accuracy = accuracy_score(y_test, y_pred)\n",
    "    conf_matrix = confusion_matrix(y_test, y_pred)\n",
    "    class_report = classification_report(y_test, y_pred)\n",
    "    roc_auc = roc_auc_score(y_test, model.predict_proba(X_test)[:, 1])\n",
    "\n",
    "    print(f\"\\nModel: {name}\")\n",
    "    print(f\"Accuracy: {accuracy:.4f}\")\n",
    "    print(\"Confusion Matrix:\\n\", conf_matrix)\n",
    "    print(\"Classification Report:\\n\", class_report)\n",
    "    print(f\"ROC-AUC Score: {roc_auc:.4f}\")\n"
   ]
  },
  {
   "cell_type": "markdown",
   "id": "0241ec8d-53af-4d80-8aae-39af2d3d6aac",
   "metadata": {},
   "source": [
    "### Compare which model performs best and explain why?"
   ]
  },
  {
   "cell_type": "code",
   "execution_count": 21,
   "id": "a1070067-b384-45c3-9b54-f398c22c647d",
   "metadata": {},
   "outputs": [
    {
     "name": "stdout",
     "output_type": "stream",
     "text": [
      "BaggingClassifier: Accuracy = 0.7835\n",
      "AdaBoostClassifier: Accuracy = 0.8055\n",
      "GradientBoostingClassifier: Accuracy = 0.8112\n",
      "XGBClassifier: Accuracy = 0.7857\n",
      "\n",
      "Best Model: GradientBoostingClassifier with Accuracy = 0.8112\n"
     ]
    },
    {
     "name": "stderr",
     "output_type": "stream",
     "text": [
      "C:\\Users\\CVR\\AppData\\Local\\Temp\\ipykernel_5360\\3253191629.py:23: FutureWarning: \n",
      "\n",
      "Passing `palette` without assigning `hue` is deprecated and will be removed in v0.14.0. Assign the `y` variable to `hue` and set `legend=False` for the same effect.\n",
      "\n",
      "  sns.barplot(x=accuracies, y=model_names, palette=\"viridis\")\n"
     ]
    },
    {
     "data": {
      "image/png": "[encoded data removed]",
      "text/plain": [
       "<Figure size 800x500 with 1 Axes>"
      ]
     },
     "metadata": {},
     "output_type": "display_data"
    }
   ],
   "source": [
    "import matplotlib.pyplot as plt\n",
    "import seaborn as sns\n",
    "from sklearn.metrics import accuracy_score\n",
    "\n",
    "# Get model names\n",
    "model_names = list(models.keys())\n",
    "\n",
    "# Calculate accuracies\n",
    "accuracies = [accuracy_score(y_test, models[name].predict(X_test)) for name in model_names]\n",
    "\n",
    "# Print accuracies\n",
    "for name, acc in zip(model_names, accuracies):\n",
    "    print(f\"{name}: Accuracy = {acc:.4f}\")\n",
    "\n",
    "# Find the best model\n",
    "best_model_index = accuracies.index(max(accuracies))\n",
    "best_model = model_names[best_model_index]\n",
    "\n",
    "print(f\"\\nBest Model: {best_model} with Accuracy = {accuracies[best_model_index]:.4f}\")\n",
    "\n",
    "# Plot accuracy comparison\n",
    "plt.figure(figsize=(8, 5))\n",
    "sns.barplot(x=accuracies, y=model_names, palette=\"viridis\")\n",
    "plt.xlabel(\"Accuracy\")\n",
    "plt.ylabel(\"Model\")\n",
    "plt.title(\"Model Comparison Based on Accuracy\")\n",
    "\n",
    "# Highlight the best model\n",
    "plt.axvline(accuracies[best_model_index], color='red', linestyle='--', label=\"Best Model\")\n",
    "plt.legend()\n",
    "\n",
    "plt.show()\n"
   ]
  },
  {
   "cell_type": "code",
   "execution_count": null,
   "id": "69bc1ec6-d6ab-4131-905d-5fa2242f1cba",
   "metadata": {},
   "outputs": [],
   "source": []
  }
 ],
 "metadata": {
  "kernelspec": {
   "display_name": "Python 3 (ipykernel)",
   "language": "python",
   "name": "python3"
  },
  "language_info": {
   "codemirror_mode": {
    "name": "ipython",
    "version": 3
   },
   "file_extension": ".py",
   "mimetype": "text/x-python",
   "name": "python",
   "nbconvert_exporter": "python",
   "pygments_lexer": "ipython3",
   "version": "3.12.4"
  }
 },
 "nbformat": 4,
 "nbformat_minor": 5
}
