{
 "cells": [
  {
   "cell_type": "code",
   "execution_count": 37,
   "id": "dc596353-7fee-4677-902a-4e1958615846",
   "metadata": {},
   "outputs": [],
   "source": [
    "import numpy as np\n",
    "def LinearRegression(x,y):\n",
    "    x_m=np.mean(x)\n",
    "    y_m=np.mean(y)\n",
    "    nu=0\n",
    "    de=0\n",
    "    for i in range(len(x)):\n",
    "        nu +=(x[i] - x_mean) * (y[i] - y_mean)\n",
    "        de+= (x[i] - x_mean) ** 2\n",
    "\n",
    "    m=nu/de\n",
    "    c=y_m-m*x_m\n",
    "    return m,c\n",
    "x=[1,2,3,4,5]\n",
    "y=[3,4,2,4,5]\n",
    "\n"
   ]
  },
  {
   "cell_type": "code",
   "execution_count": 39,
   "id": "4513b3ee-7418-472d-ba67-b9e596097105",
   "metadata": {},
   "outputs": [
    {
     "name": "stdout",
     "output_type": "stream",
     "text": [
      "y=0.4x+2.4\n"
     ]
    }
   ],
   "source": [
    "m,c=LinearRegression(x,y)\n",
    "print(f'y={m}x+{c}')"
   ]
  },
  {
   "cell_type": "code",
   "execution_count": 108,
   "id": "136fe9d9-1097-49d2-b4da-719ea215cc5d",
   "metadata": {},
   "outputs": [
    {
     "name": "stdout",
     "output_type": "stream",
     "text": [
      "Predicted y values: [2.8, 3.2, 3.6, 4.0, 4.4]\n"
     ]
    }
   ],
   "source": [
    "def predict(x, m, c):\n",
    "    y_pred = []  \n",
    "    for xi in x:\n",
    "        y_p = m * xi + c \n",
    "        y_pred.append(y_p)  \n",
    "    return y_pred \n",
    "predicted_y = predict(x, m, c)\n",
    "\n",
    "y_m = np.mean(predicted_y)\n",
    "\n",
    "print(f\"Predicted y values: {predicted_y}\")\n"
   ]
  },
  {
   "cell_type": "code",
   "execution_count": 110,
   "id": "47f1996b-2624-4305-bef8-d37b89cbfff9",
   "metadata": {},
   "outputs": [],
   "source": [
    "y=predict(x,m,c)\n"
   ]
  },
  {
   "cell_type": "code",
   "execution_count": 112,
   "id": "48ff324d-b03e-4df6-b25f-cb6165ccfc7a",
   "metadata": {},
   "outputs": [],
   "source": [
    "y_m=np.mean(y)"
   ]
  },
  {
   "cell_type": "code",
   "execution_count": 114,
   "id": "7ffe1387-4d9e-46cb-aa00-f6416b3569f0",
   "metadata": {},
   "outputs": [
    {
     "data": {
      "text/plain": [
       "([2.8, 3.2, 3.6, 4.0, 4.4], [2.8, 3.2, 3.6, 4.0, 4.4])"
      ]
     },
     "execution_count": 114,
     "metadata": {},
     "output_type": "execute_result"
    }
   ],
   "source": [
    "y,predicted_y"
   ]
  },
  {
   "cell_type": "code",
   "execution_count": 132,
   "id": "2654b9b6-59cd-4e06-b9c5-2dea99fa038b",
   "metadata": {},
   "outputs": [
    {
     "name": "stdout",
     "output_type": "stream",
     "text": [
      "0.33\n"
     ]
    }
   ],
   "source": [
    "x_m = np.mean(x)\n",
    "y_m = np.mean(y)\n",
    "r_num=sum((predicted_y-y_m)**2)\n",
    "r_deno=sum((y-y_m)**2)\n",
    "r_square=(r_num/r_deno)#accuracy of r_square\n",
    "print(f'{r_square:.2f}')"
   ]
  },
  {
   "cell_type": "code",
   "execution_count": 134,
   "id": "f7238d0f-54a7-4943-b7f5-664751a3e091",
   "metadata": {},
   "outputs": [
    {
     "name": "stdout",
     "output_type": "stream",
     "text": [
      "0.67\n"
     ]
    }
   ],
   "source": [
    "x_m = np.mean(x)\n",
    "y_m = np.mean(y)\n",
    "r_num=sum((predicted_y-y_m)**2)\n",
    "r_deno=sum((y-y_m)**2)\n",
    "r_square=1-(r_num/r_deno)#accuracy of r_square\n",
    "print(f'{r_square:.2f}')"
   ]
  },
  {
   "cell_type": "code",
   "execution_count": 136,
   "id": "393168de-b27b-48a3-9533-36da10afdef3",
   "metadata": {},
   "outputs": [
    {
     "data": {
      "text/plain": [
       "[3.4, 3.7, 4.0, 4.3, 4.6]"
      ]
     },
     "execution_count": 136,
     "metadata": {},
     "output_type": "execute_result"
    }
   ],
   "source": [
    "predicted_y"
   ]
  },
  {
   "cell_type": "code",
   "execution_count": null,
   "id": "0fe8fce2-e168-4b8b-9e86-571c42de8d43",
   "metadata": {},
   "outputs": [],
   "source": []
  }
 ],
 "metadata": {
  "kernelspec": {
   "display_name": "Python 3 (ipykernel)",
   "language": "python",
   "name": "python3"
  },
  "language_info": {
   "codemirror_mode": {
    "name": "ipython",
    "version": 3
   },
   "file_extension": ".py",
   "mimetype": "text/x-python",
   "name": "python",
   "nbconvert_exporter": "python",
   "pygments_lexer": "ipython3",
   "version": "3.12.7"
  }
 },
 "nbformat": 4,
 "nbformat_minor": 5
}
