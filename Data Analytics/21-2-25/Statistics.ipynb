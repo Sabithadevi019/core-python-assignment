{
 "cells": [
  {
   "cell_type": "markdown",
   "id": "e73c71f3",
   "metadata": {},
   "source": [
    "### Statistics\n",
    "\n",
    "It is used to organize the data,to collect the data,analyse the data.\n",
    "\n",
    "ex:opening a mall based on the mall near our area."
   ]
  },
  {
   "cell_type": "markdown",
   "id": "fe61a1f0",
   "metadata": {},
   "source": [
    "**Types of Statistics**\n",
    "\n",
    "1.*Descriptive*:organize and summarize the data.\n",
    "    \n",
    "ex:mean,median,mode-central tendency,variance,s.d-measures of dispersion.\n",
    "    \n",
    "2.*Inferential*:collect data and conclusions are given.\n",
    "    \n",
    "ex:z-test,t-test i.e Hypothesis.\n",
    "\n",
    "Population is represented by 'N'-mean->μ and sample is represented by 'n'-mean->x̄."
   ]
  },
  {
   "cell_type": "markdown",
   "id": "8d607026",
   "metadata": {},
   "source": [
    "**Different types of variables**- Variable,Random Variable.\n",
    "\n",
    "**Variables**\n",
    "\n",
    "1.Quantitative variable-discrete-no.of students,continuous-height,weight\n",
    "\n",
    "2.Qualitative variable-categorical like gender"
   ]
  },
  {
   "cell_type": "markdown",
   "id": "830af0dd",
   "metadata": {},
   "source": [
    "**Random variables**-Based on the experiment we will take the value\n",
    "\n",
    "1.Discrete variables:tossing a coin,rolling a dice\n",
    "\n",
    "2.Continuous random variable:Tomorrow how many inches it is going to rain\n",
    "    "
   ]
  },
  {
   "cell_type": "markdown",
   "id": "29cb91dd",
   "metadata": {},
   "source": [
    "**Histogram:To represent the distribution of dataset.**\n",
    "\n",
    "Here Kernel Distribution estimation is used to draw a line on the bar graph to show the distribution"
   ]
  },
  {
   "cell_type": "markdown",
   "id": "fa99688c",
   "metadata": {},
   "source": [
    "**Percentiles and Quartiles**\n",
    "\n",
    "1.Percentages:\n",
    "\n",
    "For a odd no.%=No.of odd no.s/total no. of no.s*100\n",
    "\n",
    "2.Percentile:It is a value below which certain percentage of observations lie.\n",
    "\n",
    "Percentile of value of x=No.of values below x(will be given)*100/No.of total no.s\n",
    "\n",
    "3.Quartiles:25%-1st Quartile,50%-2nd Quartile,75%-3rd Quartile"
   ]
  },
  {
   "cell_type": "markdown",
   "id": "2b6e7349",
   "metadata": {},
   "source": [
    "**5 Number Summary**\n",
    "\n",
    "1.Minimum\n",
    "\n",
    "2.1st Quartile(Q1)=Percentile*(n+1)/100=n position=value\n",
    "\n",
    "3.Median\n",
    "\n",
    "4.3rd Quartile\n",
    "\n",
    "5.Maximum\n",
    "\n",
    "IQR=Q3-Q1\n",
    "\n",
    "Lower fence=Q1-1.5*IQR\n",
    "\n",
    "Higher fence=Q3+1.5*IQR"
   ]
  },
  {
   "cell_type": "markdown",
   "id": "27857ead",
   "metadata": {},
   "source": [
    "**Covariance and correlation**:Used to find relationship between variables.\n",
    "    \n",
    "Covariance is measure of how much two random variables change together.\n",
    "\n",
    "x increases y increases or x decreases y decreases we get positive covariance.\n",
    "\n",
    "x decreases y increases or vice-versa is negative covariance.\n",
    "\n",
    "\n",
    "Cov(X,X)=Var(X)"
   ]
  },
  {
   "cell_type": "markdown",
   "id": "57c4e010",
   "metadata": {},
   "source": [
    "**Feature selection**-covariance correlation are used.\n",
    "\n",
    "mutually exclusive events when two events dont occur at a time\n",
    "\n",
    "addition rule is performed.\n",
    "\n",
    "non-mutually exclusive events when two events occur at same time\n",
    "like when we take a king and heart at a time when they asked to take king or heart.\n",
    "\n",
    "Multiplication rule(independent and dependent events)\n",
    "\n",
    "independent-tossing a coin,rolling a dice\n",
    "\n",
    "pr(t and h)=pr(t)*pr(h)\n",
    "\n",
    "dependent-pack of cards\n",
    " \n",
    " we write pr(k and q)=pr(k)*(pr(q/k)-conditional probability)."
   ]
  },
  {
   "cell_type": "markdown",
   "id": "4af3d1ea",
   "metadata": {},
   "source": [
    "**Probability Distribution**"
   ]
  },
  {
   "cell_type": "code",
   "execution_count": null,
   "id": "296eaa07",
   "metadata": {},
   "outputs": [],
   "source": []
  }
 ],
 "metadata": {
  "kernelspec": {
   "display_name": "Python 3 (ipykernel)",
   "language": "python",
   "name": "python3"
  },
  "language_info": {
   "codemirror_mode": {
    "name": "ipython",
    "version": 3
   },
   "file_extension": ".py",
   "mimetype": "text/x-python",
   "name": "python",
   "nbconvert_exporter": "python",
   "pygments_lexer": "ipython3",
   "version": "3.11.5"
  }
 },
 "nbformat": 4,
 "nbformat_minor": 5
}
