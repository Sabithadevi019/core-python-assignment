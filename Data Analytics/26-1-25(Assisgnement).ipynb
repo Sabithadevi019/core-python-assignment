{
 "cells": [
  {
   "cell_type": "code",
   "execution_count": 6,
   "id": "317e1c2d-7b62-44fe-b9b3-663a8ac66f97",
   "metadata": {},
   "outputs": [
    {
     "name": "stdout",
     "output_type": "stream",
     "text": [
      "[10 11 12 13 14 15 16 17 18 19 20 21 22 23 24 25 26 27 28 29 30 31 32 33\n",
      " 34 35 36 37 38 39 40 41 42 43 44 45 46 47 48 49 50]\n"
     ]
    }
   ],
   "source": [
    "import pandas as pd\n",
    "import numpy as np\n",
    "\n",
    "arr_1 = np.arange(10, 51)\n",
    "print(arr_1)"
   ]
  },
  {
   "cell_type": "code",
   "execution_count": 8,
   "id": "db399302-9d25-441e-a3f2-6a15ea40cca4",
   "metadata": {},
   "outputs": [
    {
     "name": "stdout",
     "output_type": "stream",
     "text": [
      "[[0.84752456 0.41640649 0.67222691]\n",
      " [0.6639727  0.74060199 0.81557714]\n",
      " [0.7435567  0.28215296 0.86869865]]\n"
     ]
    }
   ],
   "source": [
    "import numpy as np\n",
    "arr_3 = np.random.rand(3, 3)\n",
    "print(arr_3)"
   ]
  },
  {
   "cell_type": "code",
   "execution_count": 12,
   "id": "9fdce12f-025a-4ffe-8b2e-416ffed6af0d",
   "metadata": {},
   "outputs": [
    {
     "name": "stdout",
     "output_type": "stream",
     "text": [
      "(3, 3)\n"
     ]
    }
   ],
   "source": [
    "\n",
    "print(arr_3.shape)\n"
   ]
  },
  {
   "cell_type": "code",
   "execution_count": 13,
   "id": "de5e2075-0a2c-4da8-b953-2f17e492c815",
   "metadata": {},
   "outputs": [
    {
     "name": "stdout",
     "output_type": "stream",
     "text": [
      "9\n"
     ]
    }
   ],
   "source": [
    "print(arr_3.size)"
   ]
  },
  {
   "cell_type": "code",
   "execution_count": 14,
   "id": "09bd587c-db5d-48c4-a59e-41301101a0bd",
   "metadata": {},
   "outputs": [
    {
     "name": "stdout",
     "output_type": "stream",
     "text": [
      "float64\n"
     ]
    }
   ],
   "source": [
    "print(arr_3.dtype)"
   ]
  },
  {
   "cell_type": "code",
   "execution_count": 18,
   "id": "e5420682-53ed-4920-93cf-07075bdd4a7e",
   "metadata": {},
   "outputs": [
    {
     "name": "stdout",
     "output_type": "stream",
     "text": [
      "[6 7 8 9]\n"
     ]
    }
   ],
   "source": [
    "import numpy as np\n",
    "arr=np.array([1,2,3,4])\n",
    "print(arr+5)\n",
    "\n",
    "\n"
   ]
  },
  {
   "cell_type": "code",
   "execution_count": 19,
   "id": "80c6aa50-7afe-4b22-8cc3-aebf89182acc",
   "metadata": {},
   "outputs": [
    {
     "name": "stdout",
     "output_type": "stream",
     "text": [
      "[[ 3  8]\n",
      " [15 24]]\n"
     ]
    }
   ],
   "source": [
    "import numpy as np\n",
    "arr=np.array([[1,2],[3,4]])\n",
    "arr1=np.array([[3,4],[5,6]])\n",
    "print(arr*arr1)\n",
    "\n"
   ]
  },
  {
   "cell_type": "code",
   "execution_count": 20,
   "id": "aeafcf94-47e4-431e-bd13-92a25ed0f65a",
   "metadata": {},
   "outputs": [
    {
     "name": "stdout",
     "output_type": "stream",
     "text": [
      "[1 2 3 4 5]\n",
      "[ 5 10 15 20 25]\n",
      "[[ 1  2]\n",
      " [ 6  7]\n",
      " [11 12]]\n"
     ]
    }
   ],
   "source": [
    "import numpy as np\n",
    "array = np.arange(1, 26).reshape(5, 5)\n",
    "first_row = array[0, :]\n",
    "last_column = array[:, -1]\n",
    "subarray = array[:3, :2]\n",
    "print(first_row)\n",
    "print(last_column)\n",
    "print(subarray)\n",
    "\n"
   ]
  },
  {
   "cell_type": "code",
   "execution_count": 25,
   "id": "b46c69d3-1fb4-4aaa-93c5-7c28720fe92a",
   "metadata": {},
   "outputs": [
    {
     "name": "stdout",
     "output_type": "stream",
     "text": [
      "[30 56 83  3 64 49 70 52 49 99]\n",
      "99\n",
      "3\n",
      "55.5\n",
      "25.366316248127163\n"
     ]
    }
   ],
   "source": [
    "import numpy as np\n",
    "arr = np.random.randint(1, 101, 10)\n",
    "max_value = np.max(arr)\n",
    "min_value = np.min(arr)\n",
    "mean_value = np.mean(arr)\n",
    "std_value= np.std(arr)\n",
    "print(arr)\n",
    "print(max_value)\n",
    "print(min_value)\n",
    "print(mean_value)\n",
    "print(std_value)\n",
    "\n",
    "\n"
   ]
  },
  {
   "cell_type": "code",
   "execution_count": 26,
   "id": "e4be8437-7b9e-45aa-a6e0-629686239dd8",
   "metadata": {},
   "outputs": [
    {
     "name": "stdout",
     "output_type": "stream",
     "text": [
      "[[ 1  2  3  4]\n",
      " [ 5  6  7  8]\n",
      " [ 9 10 11 12]]\n"
     ]
    }
   ],
   "source": [
    "import numpy as np\n",
    "arr = np.arange(1, 13)\n",
    "mat= arr.reshape(3, 4)\n",
    "print(mat)"
   ]
  },
  {
   "cell_type": "code",
   "execution_count": 27,
   "id": "fd737793-30e3-4be6-ae34-e06ca746acf7",
   "metadata": {},
   "outputs": [
    {
     "name": "stdout",
     "output_type": "stream",
     "text": [
      "[[2. 3. 4.]\n",
      " [2. 3. 4.]\n",
      " [2. 3. 4.]]\n"
     ]
    }
   ],
   "source": [
    "import numpy as np\n",
    "arr = np.ones((3, 3))\n",
    "arr_1 = np.array([1, 2, 3])\n",
    "print(arr+arr_1)\n",
    "\n"
   ]
  },
  {
   "cell_type": "code",
   "execution_count": 31,
   "id": "bf5867f8-752e-48f4-ad74-0808e387e5b9",
   "metadata": {},
   "outputs": [
    {
     "name": "stdout",
     "output_type": "stream",
     "text": [
      "[ 4 28  2 20 26 41 44 49 43  3]\n",
      "[20]\n"
     ]
    }
   ],
   "source": [
    "import numpy as np\n",
    "arr= np.random.randint(1, 51, 10)\n",
    "div = arr[arr % 5 == 0]\n",
    "print(arr)\n",
    "\n",
    "print(div)"
   ]
  },
  {
   "cell_type": "code",
   "execution_count": 33,
   "id": "c6a019ff-9c59-47b8-a673-84290ecc1e4d",
   "metadata": {},
   "outputs": [
    {
     "name": "stdout",
     "output_type": "stream",
     "text": [
      "[[19 22]\n",
      " [43 50]]\n"
     ]
    }
   ],
   "source": [
    "import numpy as np\n",
    "mat1= np.array([[1, 2], [3, 4]])\n",
    "mat2 = np.array([[5, 6], [7, 8]])\n",
    "print(np.dot(mat1, mat2))\n"
   ]
  },
  {
   "cell_type": "code",
   "execution_count": 37,
   "id": "033cd876-ec00-4bb6-9a4d-5c6c6a87431a",
   "metadata": {},
   "outputs": [
    {
     "name": "stdout",
     "output_type": "stream",
     "text": [
      "[[ 1  2  3  4]\n",
      " [ 5  6  7  8]\n",
      " [ 9 10 11 12]\n",
      " [13 14 15 16]]\n",
      "[ 1  6 11 16]\n"
     ]
    }
   ],
   "source": [
    "import numpy as np\n",
    "arr= np.arange(1, 17).reshape(4, 4)\n",
    "diag = arr[np.diag_indices(4)]\n",
    "print(arr)\n",
    "print(diag)\n",
    "\n"
   ]
  },
  {
   "cell_type": "code",
   "execution_count": null,
   "id": "e24110a8-8756-4d7a-9ed1-dfbadeef689a",
   "metadata": {},
   "outputs": [],
   "source": []
  },
  {
   "cell_type": "code",
   "execution_count": null,
   "id": "770606b3-51fb-43ee-ae6c-cf9d43c7334e",
   "metadata": {},
   "outputs": [],
   "source": []
  }
 ],
 "metadata": {
  "kernelspec": {
   "display_name": "Python 3 (ipykernel)",
   "language": "python",
   "name": "python3"
  },
  "language_info": {
   "codemirror_mode": {
    "name": "ipython",
    "version": 3
   },
   "file_extension": ".py",
   "mimetype": "text/x-python",
   "name": "python",
   "nbconvert_exporter": "python",
   "pygments_lexer": "ipython3",
   "version": "3.12.7"
  }
 },
 "nbformat": 4,
 "nbformat_minor": 5
}
