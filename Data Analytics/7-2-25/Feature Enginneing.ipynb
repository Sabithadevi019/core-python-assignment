{
 "cells": [
  {
   "cell_type": "markdown",
   "id": "ea54fc7a",
   "metadata": {},
   "source": [
    "## Full Feature Engineering Guide with Imbalanced Data Handling"
   ]
  },
  {
   "cell_type": "markdown",
   "id": "3915ea7d",
   "metadata": {},
   "source": [
    "**What is Feature Engineering?**\n",
    " \n",
    "            Feature engineering is the process of creating new features or modifying existing ones to improve the performance of machine learning models. It involves techniques like feature extraction, transformation, encoding, and scaling to make data more useful for predictions."
   ]
  },
  {
   "cell_type": "markdown",
   "id": "030ec070",
   "metadata": {},
   "source": [
    "**Why Do We Need Feature Engineering?**\n",
    "\n",
    "1.**Improves Model Performance** – Good features help models make better predictions.\n",
    " \n",
    "2.**Reduces Overfitting** – Helps eliminate noise and irrelevant data.\n",
    " \n",
    "3.**Handles Missing Data** – Creates meaningful replacements for missing values.\n",
    " \n",
    "4.**Enables Better Interpretability** – Makes features more understandable and useful.\n",
    "5.**Reduces Dimensionality** – Helps remove unnecessary data points, making the model efficient.\n",
    "has context menu"
   ]
  },
  {
   "cell_type": "code",
   "execution_count": 2,
   "id": "63ce9eda",
   "metadata": {},
   "outputs": [
    {
     "name": "stdout",
     "output_type": "stream",
     "text": [
      "      TransactionDate  DayOfWeek  Hour  IsWeekend\n",
      "0 2025-02-05 14:30:00          2    14          0\n",
      "1 2025-02-06 18:45:00          3    18          0\n"
     ]
    }
   ],
   "source": [
    "#Extract Date and Time Features \n",
    "import pandas as pd\n",
    "#Sample Dataset\n",
    "df=pd.DataFrame({'TransactionDate':pd.to_datetime(['2025-02-05 14:30:00','2025-02-06 18:45:00'])})\n",
    "#Extract date-realted Features\n",
    "df['DayOfWeek']=df['TransactionDate'].dt.dayofweek #Monday=0,Sunday=6\n",
    "df['Hour']=df['TransactionDate'].dt.hour #Extract hour\n",
    "df['IsWeekend']=df['DayOfWeek'].apply(lambda x:1 if x>=5 else 0)#weekend Flag\n",
    "print(df)\n",
    "#Why?Helps capture behavioral trends(ex:shopping habits on weekends vs weekdays)"
   ]
  },
  {
   "cell_type": "code",
   "execution_count": 3,
   "id": "d68a2ee1",
   "metadata": {},
   "outputs": [
    {
     "name": "stdout",
     "output_type": "stream",
     "text": [
      "   UserID  AvgTransactionAmount\n",
      "0     101                 600.0\n",
      "1     102                 350.0\n",
      "2     103                1000.0\n"
     ]
    }
   ],
   "source": [
    "#Aggregated Features\n",
    "#Find average transaction amount per user.\n",
    "df_transactions=pd.DataFrame({\n",
    "    'UserID':[101,102,101,103,102],\n",
    "    'TransactionAmount':[500,300,700,1000,400]\n",
    "})\n",
    "df_user_avg=df_transactions.groupby('UserID')['TransactionAmount'].mean().reset_index()\n",
    "df_user_avg.rename(columns={'TransactionAmount':'AvgTransactionAmount'},inplace=True)\n",
    "print(df_user_avg)\n",
    "#Why?Identifies high-value customers and spending patterns"
   ]
  },
  {
   "cell_type": "code",
   "execution_count": 6,
   "id": "9da4da6d",
   "metadata": {},
   "outputs": [
    {
     "name": "stdout",
     "output_type": "stream",
     "text": [
      "   ProductCategory_Clothing  ProductCategory_Electronics  \\\n",
      "0                       0.0                          1.0   \n",
      "1                       1.0                          0.0   \n",
      "2                       1.0                          0.0   \n",
      "3                       0.0                          0.0   \n",
      "\n",
      "   ProductCategory_Grocery  \n",
      "0                      0.0  \n",
      "1                      0.0  \n",
      "2                      0.0  \n",
      "3                      1.0  \n"
     ]
    }
   ],
   "source": [
    "#Encoding Categorical Variables\n",
    "#Convert ProductXategory(Electronics,Clothing) into numerical form:\n",
    "from sklearn.preprocessing import OneHotEncoder\n",
    "df=pd.DataFrame({'ProductCategory':['Electronics','Clothing','Clothing','Grocery']})\n",
    "encoder=OneHotEncoder(sparse_output=False)\n",
    "encoded_features=encoder.fit_transform(df[['ProductCategory']])\n",
    "df_encoded=pd.DataFrame(encoded_features,columns=encoder.get_feature_names_out())\n",
    "print(df_encoded)\n",
    "#Why? Converts non-numeric categories to format suitable for ML models"
   ]
  },
  {
   "cell_type": "code",
   "execution_count": 9,
   "id": "49936f20",
   "metadata": {},
   "outputs": [
    {
     "name": "stdout",
     "output_type": "stream",
     "text": [
      "   TransactionAmount  LogTransactionAmount\n",
      "0                100              4.615121\n",
      "1                200              5.303305\n",
      "2               5000              8.517393\n",
      "3              10000              9.210440\n",
      "4              20000              9.903538\n"
     ]
    }
   ],
   "source": [
    "#Log TRansformation for Skewed Data\n",
    "#If TransactionAmount has outliers,apply log Transformation\n",
    "import numpy as np\n",
    "df=pd.DataFrame({'TransactionAmount':[100,200,5000,10000,20000]})\n",
    "df['LogTransactionAmount']=np.log1p(df['TransactionAmount'])#Log1p avoids log(0) issues\n",
    "print(df)\n",
    "#Why?Reduces skewness and impact of outliers"
   ]
  },
  {
   "cell_type": "code",
   "execution_count": 10,
   "id": "a725c142",
   "metadata": {},
   "outputs": [
    {
     "name": "stdout",
     "output_type": "stream",
     "text": [
      "   TransactionAmount  LogTransactionAmount  NormalizedTransactionAmount  \\\n",
      "0                100              4.615121                     0.000000   \n",
      "1                200              5.303305                     0.005025   \n",
      "2               5000              8.517393                     0.246231   \n",
      "3              10000              9.210440                     0.497487   \n",
      "4              20000              9.903538                     1.000000   \n",
      "\n",
      "   StandardScalerTransactionAmount  \n",
      "0                        -0.937070  \n",
      "1                        -0.923606  \n",
      "2                        -0.277351  \n",
      "3                         0.395831  \n",
      "4                         1.742196  \n"
     ]
    }
   ],
   "source": [
    "#Feature Scaling\n",
    "from sklearn.preprocessing import MinMaxScaler,StandardScaler\n",
    "scaler=MinMaxScaler()\n",
    "df['NormalizedTransactionAmount']=scaler.fit_transform(df[['TransactionAmount']])\n",
    "standard_scaler=StandardScaler()\n",
    "df['StandardScalerTransactionAmount']=standard_scaler.fit_transform(df[['TransactionAmount']])\n",
    "print(df)\n",
    "#Why?Ensures all features have same scale,preventing bias in ML models"
   ]
  },
  {
   "cell_type": "markdown",
   "id": "9663d1d3",
   "metadata": {},
   "source": [
    "**Final Summary of Feature Engineering & Imbalanced Data Handling**\n",
    " \n",
    "Feature Extraction : Extract new insights from raw data (e.g., Hour, DayOfWeek)\n",
    " \n",
    "Aggregated Features : Calculate meaningful statistics (e.g., AvgTransactionAmountPerUser)\n",
    " \n",
    "Encoding : Convert categorical variables into numerical (One-Hot Encoding)\n",
    " \n",
    "Log Transformation : Reduce skewness in data distribution\n",
    " \n",
    "Feature Scaling : Normalize numerical features for better model performance\n",
    " \n",
    "Downsampling: Reduce the size of the majority class\n",
    " \n",
    "Upsampling : Increase the size of the minority class\n",
    " \n",
    "SMOTE(Synthetic Minority Over-sampling Technique) : Generate synthetic samples for the minority class"
   ]
  },
  {
   "cell_type": "code",
   "execution_count": null,
   "id": "b9ed466c",
   "metadata": {},
   "outputs": [],
   "source": []
  }
 ],
 "metadata": {
  "kernelspec": {
   "display_name": "Python 3 (ipykernel)",
   "language": "python",
   "name": "python3"
  },
  "language_info": {
   "codemirror_mode": {
    "name": "ipython",
    "version": 3
   },
   "file_extension": ".py",
   "mimetype": "text/x-python",
   "name": "python",
   "nbconvert_exporter": "python",
   "pygments_lexer": "ipython3",
   "version": "3.11.5"
  }
 },
 "nbformat": 4,
 "nbformat_minor": 5
}
