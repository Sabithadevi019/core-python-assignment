{
 "cells": [
  {
   "cell_type": "code",
   "execution_count": 2,
   "id": "da0633aa",
   "metadata": {},
   "outputs": [],
   "source": [
    "import pandas as pd\n",
    "import numpy as np\n",
    "import matplotlib.pyplot as plt\n",
    "import seaborn as sns\n",
    "from scipy.stats import zscore"
   ]
  },
  {
   "cell_type": "markdown",
   "id": "56a77dec",
   "metadata": {},
   "source": [
    "**outlier-datapoint which is outside of the distribution\n",
    "finding**\n",
    "\n",
    "1.iqr\n",
    "\n",
    "2.z-score range of -3 to +3\n",
    "\n",
    "3.box plot\n",
    "\n",
    "4.scatter plot\n",
    "\n",
    "**A scatter plot helps visually see extreme values.**\n",
    "\n",
    "**A box plot is useful for spotting extreme values using quartiles.**\n",
    "\n",
    "z-score\n",
    "\n",
    "z=x-mean/s.d"
   ]
  },
  {
   "cell_type": "code",
   "execution_count": 9,
   "id": "68b3a352",
   "metadata": {},
   "outputs": [],
   "source": [
    "#creating sample dataset\n",
    "np.random.seed(42)\n",
    "data=np.random.normal(loc=50,scale=10,size=100)#normal data with mean=50,std=10\n",
    "outliers=np.array([50,170,15,160])#outliers\n",
    "data=np.concatenate([data,outliers])#adding outliers to dataset"
   ]
  },
  {
   "cell_type": "code",
   "execution_count": 10,
   "id": "9e494cef",
   "metadata": {
    "scrolled": true
   },
   "outputs": [
    {
     "name": "stdout",
     "output_type": "stream",
     "text": [
      "      Values\n",
      "0  54.967142\n",
      "1  48.617357\n",
      "2  56.476885\n",
      "3  65.230299\n",
      "4  47.658466\n"
     ]
    }
   ],
   "source": [
    "#creating a dataframe\n",
    "df=pd.DataFrame(data,columns=['Values'])\n",
    "print(df.head())"
   ]
  },
  {
   "cell_type": "code",
   "execution_count": 11,
   "id": "ec1d2941",
   "metadata": {},
   "outputs": [
    {
     "name": "stdout",
     "output_type": "stream",
     "text": [
      "         Values\n",
      "99    47.654129\n",
      "100   50.000000\n",
      "101  170.000000\n",
      "102   15.000000\n",
      "103  160.000000\n"
     ]
    }
   ],
   "source": [
    "print(df.tail())"
   ]
  },
  {
   "cell_type": "code",
   "execution_count": 24,
   "id": "cde1679d",
   "metadata": {},
   "outputs": [
    {
     "data": {
      "image/png": "[encoded data removed]",
      "text/plain": [
       "<Figure size 800x500 with 1 Axes>"
      ]
     },
     "metadata": {},
     "output_type": "display_data"
    }
   ],
   "source": [
    "plt.figure(figsize=(8,5))\n",
    "plt.scatter(range(len(df)),df['Values'],color='yellow',label='Data points')\n",
    "plt.axhline(y=df['Values'].mean(),color='red',linestyle='--',label='Mean')\n",
    "plt.xlabel('Index')\n",
    "plt.ylabel('Values')\n",
    "plt.title('Scatter Plot for Outlier Detection')\n",
    "plt.legend()\n",
    "plt.show()"
   ]
  },
  {
   "cell_type": "markdown",
   "id": "a9dc4f33",
   "metadata": {},
   "source": [
    "z-score\n",
    "z = (X – μ) / σ\n",
    "X=Data point\n",
    "μ=Mean of Dataset\n",
    "σ=Standard Deviation of dataset\n"
   ]
  },
  {
   "cell_type": "code",
   "execution_count": 39,
   "id": "bced5712",
   "metadata": {},
   "outputs": [
    {
     "name": "stdout",
     "output_type": "stream",
     "text": [
      "     Values Outlier_Z   z-score Outlier_IQR\n",
      "101   170.0   Outlier  6.409986     Outlier\n",
      "103   160.0   Outlier  5.871891     Outlier\n"
     ]
    }
   ],
   "source": [
    "df['z-score']=zscore(df['Values'])\n",
    "df['Outlier_Z']=df['z-score'].apply(lambda x: 'Outlier' if abs(x)>3 else 'Normal')\n",
    "print(df[df['Outlier_Z']=='Outlier'])\n"
   ]
  },
  {
   "cell_type": "markdown",
   "id": "c88a3ab7",
   "metadata": {},
   "source": [
    "***Interquartile Range (IQR)***"
   ]
  },
  {
   "cell_type": "markdown",
   "id": "5dc5a4f4",
   "metadata": {},
   "source": [
    "IQR=Q3-Q1\n",
    "\n",
    "1.CALCULATE Q1(25th percentile) and  Q3(75th percentile)\n",
    "\n",
    "2.IQR=Q3-Q1\n",
    "\n",
    "3.lower and upper bounds\n",
    "\n",
    "**lower bound=Q1-1.5*IQR**\n",
    "\n",
    "**upper bound=Q3+1.5*IQR**"
   ]
  },
  {
   "cell_type": "code",
   "execution_count": 38,
   "id": "fa9595f6",
   "metadata": {},
   "outputs": [
    {
     "name": "stdout",
     "output_type": "stream",
     "text": [
      "         Values Outlier_Z   z-score Outlier_IQR\n",
      "74    23.802549    Normal -1.456837     Outlier\n",
      "101  170.000000   Outlier  6.409986     Outlier\n",
      "102   15.000000    Normal -1.930498     Outlier\n",
      "103  160.000000   Outlier  5.871891     Outlier\n"
     ]
    }
   ],
   "source": [
    "Q1=df['Values'].quantile(0.25)\n",
    "Q3=df['Values'].quantile(0.75)\n",
    "#defining bounds\n",
    "IQR = Q3 - Q1\n",
    "lower_bound=Q1-1.5*IQR\n",
    "upper_bound=Q3+1.5*IQR\n",
    "#identifying outliers\n",
    "df['Outlier_IQR']=df['Values'].apply(lambda x:'Outlier' if (x<lower_bound or x>upper_bound)else 'Normal')\n",
    "print(df[df['Outlier_IQR']=='Outlier'])\n"
   ]
  },
  {
   "cell_type": "markdown",
   "id": "16443b2b",
   "metadata": {},
   "source": [
    "**Finding Outliers Using the IQR Method with a 5-Number Summary**\n",
    "\n",
    "The 5-number summary consists of:\n",
    " \n",
    "Minimum (Q0) → The smallest value in the dataset.\n",
    " \n",
    "First Quartile (Q1) → The 25th percentile (lower quartile).\n",
    " \n",
    "Median (Q2) → The 50th percentile (middle value).\n",
    " \n",
    "Third Quartile (Q3) → The 75th percentile (upper quartile).\n",
    " \n",
    "Maximum (Q4) → The largest value in the dataset."
   ]
  },
  {
   "cell_type": "markdown",
   "id": "f7f730c8",
   "metadata": {},
   "source": [
    "**The Interquartile Range (IQR) is calculated as:**\n",
    " \n",
    "IQR=Q3−Q1\n",
    " \n",
    "Any value outside the range:\n",
    " \n",
    "[Q1−1.5×IQR,Q3+1.5×IQR]  is considered an outlier."
   ]
  },
  {
   "cell_type": "markdown",
   "id": "831c6138",
   "metadata": {},
   "source": [
    "**Let's generate a dataset, compute the 5-number summary, and find the outliers using the IQR**"
   ]
  },
  {
   "cell_type": "code",
   "execution_count": 44,
   "id": "f652b3da",
   "metadata": {},
   "outputs": [
    {
     "name": "stdout",
     "output_type": "stream",
     "text": [
      "5-Number Summary:\n",
      "Min:5.0\n",
      "Q1:43.874401021766715\n",
      "Median(Q2):48.73043708220287\n",
      "Q3:55.00852473036764\n",
      "Max:120.0\n",
      "IQR:11.134123708600924\n",
      "Lower Bound:27.17321545886533,Upper Bound:71.70971029326903\n",
      "Outliers:[ 23.80254896  10.         110.           5.         120.        ]\n"
     ]
    }
   ],
   "source": [
    "import pandas as pd\n",
    "#creating a dataset\n",
    "np.random.seed(42)\n",
    "data=np.random.normal(loc=50,scale=10,size=100)#mean=50,std=10\n",
    "outliers=np.array([10,110,5,120])\n",
    "data=np.concatenate([data,outliers])#Merge normal data with outliers\n",
    "#Compute 5-step\n",
    "Q1=np.percentile(data,25)\n",
    "Q2=np.median(data)\n",
    "Q3=np.percentile(data,75)\n",
    "min_value=np.min(data)\n",
    "max_value=np.max(data)\n",
    "#compute IQR\n",
    "IQR=Q3-Q1\n",
    "#Compute outlier Boundaries\n",
    "lower_bound=Q1-1.5*IQR\n",
    "upper_bound=Q3+1.5*IQR\n",
    "outliers=data[(data<lower_bound)|(data>upper_bound)]\n",
    "#print Results\n",
    "print(f'5-Number Summary:\\nMin:{min_value}\\nQ1:{Q1}\\nMedian(Q2):{Q2}\\nQ3:{Q3}\\nMax:{max_value}')\n",
    "print(f'IQR:{IQR}')\n",
    "print(f'Lower Bound:{lower_bound},Upper Bound:{upper_bound}')\n",
    "print(f'Outliers:{outliers}')"
   ]
  },
  {
   "cell_type": "code",
   "execution_count": null,
   "id": "7b3f5189",
   "metadata": {},
   "outputs": [],
   "source": []
  }
 ],
 "metadata": {
  "kernelspec": {
   "display_name": "Python 3 (ipykernel)",
   "language": "python",
   "name": "python3"
  },
  "language_info": {
   "codemirror_mode": {
    "name": "ipython",
    "version": 3
   },
   "file_extension": ".py",
   "mimetype": "text/x-python",
   "name": "python",
   "nbconvert_exporter": "python",
   "pygments_lexer": "ipython3",
   "version": "3.11.5"
  }
 },
 "nbformat": 4,
 "nbformat_minor": 5
}
